{
 "cells": [
  {
   "cell_type": "markdown",
   "metadata": {},
   "source": [
    "Необходимо реализовать метод,\n",
    "который будет принимать путь до изображения и выдавать целочисленное значение - цену, распознанную на этом изображении.\n",
    "\n",
    "Описание данных:\n",
    "\n",
    "- выборка состоит из\n",
    "изображений и цен к ним\n",
    "- изображения и цены можно идентифицировать по информации, находящейся в train.csv\n",
    "\n",
    " Ожидание от решения:\n",
    "\n",
    "\n",
    "- исполняемый скрипт на python или\n",
    "jupyter notebook\n",
    "- желательно оформить решение в\n",
    "виде класса или функции\n",
    "- нужно объяснить выбор алгоритма\n",
    "для решения\n",
    "- предоставить веса для модели (расчет метрик дополнительно произведется на наших данных) и результаты работы модели (распознать все изображения из test.csv и добавить в него колонку с результатами)\n",
    "- целевые метрики: accuracy,\n",
    "precision, recall.\n",
    "\n",
    "На что будет обращено внимание при\n",
    "проверке:\n",
    "\n",
    "- читаемость и воспроизводимость\n",
    "кода, наличие комментариев\n",
    "- выбор и реализация метода,\n",
    "решающего задачу\n",
    "- качество метода, отсутствие\n",
    "переобучения.\n",
    "\n",
    "Результат с исходниками в виде скриптов/ноутбуков и пояснениями в виде readme.md оформить в публичный гитхаб репозиторий и ссылку вставить в поле ниже в этой форме. Хранение весов и результатов распознавания допускается в репозитории/гугл диске.\n",
    "\n",
    "Дедлайн: 7 дней с момента получения задания. "
   ]
  },
  {
   "cell_type": "code",
   "execution_count": 28,
   "metadata": {},
   "outputs": [],
   "source": [
    "import pandas as pd\n",
    "import numpy as np\n",
    "import cv2\n",
    "import pytesseract\n",
    "import os\n",
    "import re\n",
    "import matplotlib.pyplot as plt\n",
    "from tqdm import tqdm \n",
    "from sklearn.metrics import accuracy_score, precision_score, recall_score"
   ]
  },
  {
   "cell_type": "code",
   "execution_count": 29,
   "metadata": {},
   "outputs": [],
   "source": [
    "#Загрузим данные\n",
    "IMAGE_DIR = 'imgs/'\n",
    "\n",
    "# Загрузка обучающего набора\n",
    "train_df = pd.read_csv('train.csv')\n",
    "\n",
    "# Загрузка валидационного набора\n",
    "val_df = pd.read_csv('val.csv')"
   ]
  },
  {
   "cell_type": "code",
   "execution_count": 30,
   "metadata": {},
   "outputs": [
    {
     "data": {
      "text/plain": [
       "(0       109.0\n",
       " 1        64.0\n",
       " 2       101.0\n",
       " 3       229.0\n",
       " 4        39.0\n",
       "         ...  \n",
       " 291     797.0\n",
       " 292    2049.0\n",
       " 293     634.0\n",
       " 294     121.0\n",
       " 295    4899.0\n",
       " Length: 296, dtype: float64,\n",
       " text\n",
       " 149.0     127\n",
       " 119.0     126\n",
       " 139.0     116\n",
       " 99.0      115\n",
       " 89.0      111\n",
       "          ... \n",
       " 3599.0      2\n",
       " 1329.0      2\n",
       " 8699.0      2\n",
       " 1359.0      2\n",
       " 3499.0      2\n",
       " Name: count, Length: 249, dtype: int64)"
      ]
     },
     "execution_count": 30,
     "metadata": {},
     "output_type": "execute_result"
    }
   ],
   "source": [
    "# Посмотрим сколько значений не уникальны\n",
    "duplicates = train_df['text'].value_counts()\n",
    "duplicates = duplicates[duplicates > 1]\n",
    "\n",
    "unique_prices = train_df['text'].unique()\n",
    "price_series = pd.Series(unique_prices)\n",
    "\n",
    "price_series, duplicates"
   ]
  },
  {
   "cell_type": "code",
   "execution_count": 31,
   "metadata": {},
   "outputs": [],
   "source": [
    "# Функция для предобработки изображения\n",
    "def preprocess_image(image_path):\n",
    "    \"\"\"\n",
    "    Загружает изображение, конвертирует его в оттенки серого и применяет бинаризацию (порог Оцу).\n",
    "    Если изображение не загружено, возвращает None.\n",
    "    \"\"\"\n",
    "    image = cv2.imread(image_path)\n",
    "    if image is None:\n",
    "        return None\n",
    "    gray = cv2.cvtColor(image, cv2.COLOR_BGR2GRAY)\n",
    "    # Бинаризация с автоматическим порогом (Оцу)\n",
    "    _, binary = cv2.threshold(gray, 128, 255, cv2.THRESH_BINARY | cv2.THRESH_OTSU)\n",
    "    return binary"
   ]
  },
  {
   "cell_type": "code",
   "execution_count": 32,
   "metadata": {},
   "outputs": [],
   "source": [
    "# Функция для извлечения цены из изображения\n",
    "def extract_price_from_image(image_path):\n",
    "    \"\"\"\n",
    "    Предобрабатывает изображение и с помощью Tesseract извлекает найденное число.\n",
    "    Если числа не найдено или изображение не загружено, возвращает None.\n",
    "    \"\"\"\n",
    "    processed_image = preprocess_image(image_path)\n",
    "    if processed_image is None:\n",
    "        return None\n",
    "    text = pytesseract.image_to_string(processed_image, config='--psm 6')\n",
    "    numbers = re.findall(r'\\d+', text)\n",
    "    return int(numbers[0]) if numbers else None"
   ]
  },
  {
   "cell_type": "code",
   "execution_count": 33,
   "metadata": {},
   "outputs": [],
   "source": [
    "# Функция для получения предсказаний по DataFrame\n",
    "def get_predictions(df, image_dir):\n",
    "    \"\"\"\n",
    "    Для каждого изображения, указанного в столбце 'img_name' DataFrame,\n",
    "    проверяет существование файла и извлекает цену.\n",
    "    Результат записывается в новый столбец 'predicted_price'.\n",
    "    \"\"\"\n",
    "    predicted_prices = []\n",
    "    for _, row in tqdm(df.iterrows(), total=len(df), desc=\"Обработка изображений\"):\n",
    "        image_path = os.path.join(image_dir, row['img_name'])\n",
    "        if os.path.exists(image_path):\n",
    "            price = extract_price_from_image(image_path)\n",
    "            predicted_prices.append(price)\n",
    "        else:\n",
    "            predicted_prices.append(None)\n",
    "    df['predicted_price'] = predicted_prices\n",
    "    return df"
   ]
  },
  {
   "cell_type": "code",
   "execution_count": 34,
   "metadata": {},
   "outputs": [],
   "source": [
    "# Функция для расчета digit-level accuracy для одного объекта\n",
    "def digit_accuracy(true_value, predicted_value):\n",
    "    \"\"\"\n",
    "    Вычисляет долю правильно предсказанных цифр между true_value и predicted_value.\n",
    "    Если длины чисел различны, дополняет меньшую строку ведущими нулями до длины большей.\n",
    "    Если predicted_value отсутствует (NaN), возвращает 0.\n",
    "    \"\"\"\n",
    "    if pd.isna(predicted_value):\n",
    "        return 0.0\n",
    "    # Преобразуем значения в строки\n",
    "    true_str = str(true_value)\n",
    "    pred_str = str(predicted_value)\n",
    "    # Выравниваем длины, добавляя ведущие нули\n",
    "    max_len = max(len(true_str), len(pred_str))\n",
    "    true_str = true_str.zfill(max_len)\n",
    "    pred_str = pred_str.zfill(max_len)\n",
    "    # Подсчитываем совпадающие цифры на соответствующих позициях\n",
    "    correct = sum(1 for t, p in zip(true_str, pred_str) if t == p)\n",
    "    return correct / max_len"
   ]
  },
  {
   "cell_type": "code",
   "execution_count": 35,
   "metadata": {},
   "outputs": [],
   "source": [
    "def within_tolerance(true_value, predicted_value, tol=0.05):\n",
    "    \"\"\"\n",
    "    Возвращает True, если относительная ошибка (|true - pred| / true) не превышает tol (например, 5%).\n",
    "    Если predicted_value отсутствует, возвращает False.\n",
    "    \"\"\"\n",
    "    if pd.isna(predicted_value):\n",
    "        return False\n",
    "    # Предполагаем, что истинное значение не равно 0\n",
    "    return abs(true_value - predicted_value) / true_value <= tol"
   ]
  },
  {
   "cell_type": "code",
   "execution_count": 36,
   "metadata": {},
   "outputs": [
    {
     "name": "stderr",
     "output_type": "stream",
     "text": [
      "Обработка изображений: 100%|██████████| 1000/1000 [02:11<00:00,  7.62it/s]\n",
      "Обработка изображений: 100%|██████████| 4952/4952 [11:00<00:00,  7.50it/s]\n"
     ]
    }
   ],
   "source": [
    "# Загрузка валидационного и тестового предсказанного набора\n",
    "val_df = get_predictions(val_df, IMAGE_DIR)\n",
    "train_df = get_predictions(train_df, IMAGE_DIR)"
   ]
  },
  {
   "cell_type": "code",
   "execution_count": 37,
   "metadata": {},
   "outputs": [
    {
     "name": "stdout",
     "output_type": "stream",
     "text": [
      "Train Digit-Level Accuracy: 0.8110936418186014\n",
      "Validation Digit-Level Accuracy: 0.7994761904761903\n",
      "Train Recognition Rate: 0.8649030694668821\n",
      "Validation Recognition Rate: 0.861\n",
      "Train Simple Accuracy (exact match): 0.720718901453958\n",
      "Validation Simple Accuracy (exact match): 0.697\n",
      "Train Custom Accuracy (within 5% tolerance): 0.7275848142164781\n",
      "Validation Custom Accuracy (within 5% tolerance): 0.707\n",
      "Train Simple Accuracy (exact match): 0.720718901453958\n",
      "Validation Simple Accuracy (exact match): 0.697\n",
      "Train Accuracy (sklearn): 0.720718901453958\n",
      "Train Precision (sklearn): 0.5725459296459555\n",
      "Train Recall (sklearn): 0.47407546773811754\n",
      "Validation Accuracy (sklearn): 0.697\n",
      "Validation Precision (sklearn): 0.6401529516849067\n",
      "Validation Recall (sklearn): 0.5482012008779612\n",
      "Train Custom Accuracy (within 5% tolerance): 0.7275848142164781\n",
      "Validation Custom Accuracy (within 5% tolerance): 0.707\n"
     ]
    }
   ],
   "source": [
    "# 1. Digit-Level Accuracy: вычисляем для каждой строки и усредняем\n",
    "train_df['digit_accuracy'] = train_df.apply(lambda row: digit_accuracy(row['text'], row['predicted_price']), axis=1)\n",
    "val_df['digit_accuracy'] = val_df.apply(lambda row: digit_accuracy(row['text'], row['predicted_price']), axis=1)\n",
    "digit_level_acc_train = train_df['digit_accuracy'].mean()\n",
    "digit_level_acc_val   = val_df['digit_accuracy'].mean()\n",
    "print(\"Train Digit-Level Accuracy:\", digit_level_acc_train)\n",
    "print(\"Validation Digit-Level Accuracy:\", digit_level_acc_val)\n",
    "\n",
    "# 2. Recognition Rate: доля изображений с полученным предсказанием\n",
    "recognition_rate_train = train_df['predicted_price'].notna().mean()\n",
    "recognition_rate_val = val_df['predicted_price'].notna().mean()\n",
    "print(\"Train Recognition Rate:\", recognition_rate_train)\n",
    "print(\"Validation Recognition Rate:\", recognition_rate_val)\n",
    "\n",
    "# 3. Simple Accuracy (точное совпадение чисел)\n",
    "# Если предсказание отсутствует (NaN), заменяем на -1, чтобы его можно было сравнить с истинным значением.\n",
    "train_df['predicted_price_filled'] = train_df['predicted_price'].fillna(-1)\n",
    "val_df['predicted_price_filled'] = val_df['predicted_price'].fillna(-1)\n",
    "simple_accuracy_train = (train_df['text'] == train_df['predicted_price_filled']).mean()\n",
    "simple_accuracy_val = (val_df['text'] == val_df['predicted_price_filled']).mean()\n",
    "print(\"Train Simple Accuracy (exact match):\", simple_accuracy_train)\n",
    "print(\"Validation Simple Accuracy (exact match):\", simple_accuracy_val)\n",
    "\n",
    "# 4. Custom Accuracy по допуску: считаем предсказание верным, если относительная ошибка не превышает 5%\n",
    "train_df['custom_accuracy'] = train_df.apply(lambda row: 1 if within_tolerance(row['text'], row['predicted_price'], tol=0.05) else 0, axis=1)\n",
    "val_df['custom_accuracy'] = val_df.apply(lambda row: 1 if within_tolerance(row['text'], row['predicted_price'], tol=0.05) else 0, axis=1)\n",
    "custom_acc_train = train_df['custom_accuracy'].mean()\n",
    "custom_acc_val = val_df['custom_accuracy'].mean()\n",
    "print(\"Train Custom Accuracy (within 5% tolerance):\", custom_acc_train)\n",
    "print(\"Validation Custom Accuracy (within 5% tolerance):\", custom_acc_val)\n",
    "\n",
    "# 3. Simple Accuracy (точное совпадение чисел)\n",
    "# Если предсказание отсутствует (NaN), заменяем на -1, чтобы его можно было сравнить с истинным значением.\n",
    "train_df['predicted_price_filled'] = train_df['predicted_price'].fillna(-1)\n",
    "val_df['predicted_price_filled'] = val_df['predicted_price'].fillna(-1)\n",
    "simple_accuracy_train = (train_df['text'] == train_df['predicted_price_filled']).mean()\n",
    "simple_accuracy_val = (val_df['text'] == val_df['predicted_price_filled']).mean()\n",
    "print(\"Train Simple Accuracy (exact match):\", simple_accuracy_train)\n",
    "print(\"Validation Simple Accuracy (exact match):\", simple_accuracy_val)\n",
    "\n",
    "# 4. Стандартные метрики (Accuracy, Precision, Recall) из sklearn\n",
    "y_true_train = train_df['text']\n",
    "y_pred_train = train_df['predicted_price_filled']\n",
    "acc_sklearn_train = accuracy_score(y_true_train, y_pred_train)\n",
    "prec_sklearn_train = precision_score(y_true_train, y_pred_train, average='macro', zero_division=0)\n",
    "rec_sklearn_train = recall_score(y_true_train, y_pred_train, average='macro', zero_division=0)\n",
    "print(\"Train Accuracy (sklearn):\", acc_sklearn_train)\n",
    "print(\"Train Precision (sklearn):\", prec_sklearn_train)\n",
    "print(\"Train Recall (sklearn):\", rec_sklearn_train)\n",
    "\n",
    "y_true_val = val_df['text']\n",
    "y_pred_val = val_df['predicted_price_filled']\n",
    "acc_sklearn_val = accuracy_score(y_true_val, y_pred_val)\n",
    "prec_sklearn_val = precision_score(y_true_val, y_pred_val, average='macro', zero_division=0)\n",
    "rec_sklearn_val = recall_score(y_true_val, y_pred_val, average='macro', zero_division=0)\n",
    "print(\"Validation Accuracy (sklearn):\", acc_sklearn_val)\n",
    "print(\"Validation Precision (sklearn):\", prec_sklearn_val)\n",
    "print(\"Validation Recall (sklearn):\", rec_sklearn_val)\n",
    "\n",
    "# 5. Custom Accuracy (предсказание считается верным, если относительная ошибка не превышает 5%)\n",
    "train_df['custom_accuracy'] = train_df.apply(lambda row: 1 if within_tolerance(row['text'], row['predicted_price'], tol=0.05) else 0, axis=1)\n",
    "val_df['custom_accuracy'] = val_df.apply(lambda row: 1 if within_tolerance(row['text'], row['predicted_price'], tol=0.05) else 0, axis=1)\n",
    "custom_accuracy_train = train_df['custom_accuracy'].mean()\n",
    "custom_accuracy_val = val_df['custom_accuracy'].mean()\n",
    "print(\"Train Custom Accuracy (within 5% tolerance):\", custom_accuracy_train)\n",
    "print(\"Validation Custom Accuracy (within 5% tolerance):\", custom_accuracy_val)"
   ]
  },
  {
   "cell_type": "code",
   "execution_count": null,
   "metadata": {},
   "outputs": [],
   "source": [
    "final_df = train_df.drop(columns = ['predicted_price', 'digit_accuracy', 'custom_accuracy'])\n",
    "\n",
    "# Создадим csv с результатами\n",
    "final_df.to_csv('final_df.csv')"
   ]
  },
  {
   "cell_type": "markdown",
   "metadata": {},
   "source": [
    "# Результаты\n",
    "#### Digit-Level Accuracy (Train ~81%, Val ~80%)\n",
    "\n",
    "Эта метрика показывает, что на уровне отдельных цифр модель правильно распознаёт около 80% разрядов числа. Это означает, что если цена состоит из, например, 3–4 цифр, в среднем 2,5–3 цифры будут распознаны верно. Это неплохо, особенно если учитывать, что при ошибках не обязательно все разряды будут неверными.\n",
    "\n",
    "### Recognition Rate (Train ~86%, Val ~86%)\n",
    "\n",
    "Эта метрика отражает долю изображений, для которых модель смогла выдать какое-либо предсказание (т.е. значение не равно NaN). При 86% таких случаев можно сказать, что в большинстве изображений система работает и возвращает результат.\n",
    "\n",
    "### Custom Accuracy (Within 5% Tolerance) (Train ~73%, Val ~71%)\n",
    "\n",
    "Эта метрика считает предсказание верным, если относительная ошибка не превышает 5%. Результаты почти совпадают с точным совпадением, что может говорить о том, что когда модель ошибается, ошибка либо минимальна, либо модель часто выдаёт абсолютно верный результат.\n",
    "\n",
    "### Accuracy\n",
    "(Train ~72%, Val ~70%) – Здесь мы измеряем процент случаев, когда предсказанное число полностью совпадает с истинным значением. Значения 72% на обучающей выборке и 70% на валидационной говорят о том, что примерно в 7 из 10 случаев модель предсказывает цену абсолютно точно.\n",
    "\n",
    "### Precision\n",
    "(Train ~57%, Val ~64%) \n",
    "\n",
    "### Recall\n",
    "(Train ~45%, Val ~55%) – эти метрики, рассчитанные для задачи, где каждая цена считается отдельным классом, показывают, что при строгом критерии точного совпадения модель ошибается на некоторых классах чаще, что снижает полноту (Recall) и точность (Precision). Обычно это связано с дисбалансом классов и тем, что при небольшом количестве образцов для некоторых цен метрика оказывается ниже.  \n",
    "\n",
    "# Общий вывод:\n",
    "Метрики на обучающем и валидационном наборах очень близки, что указывает на хорошую обобщаемость модели и отсутствие переобучения.\n",
    "Digit-Level Accuracy около 80% означает, что на уровне отдельных цифр система работает достаточно хорошо.\n",
    "Exact match accuracy (около 70%) и custom accuracy (с допуском 5%) также показывают стабильные результаты.\n",
    "Стандартные метрики (precision и recall) немного ниже, что естественно для задачи с большим количеством классов (каждая цена – отдельный класс) и могут служить дополнительным ориентиром."
   ]
  }
 ],
 "metadata": {
  "kernelspec": {
   "display_name": "venv",
   "language": "python",
   "name": "python3"
  },
  "language_info": {
   "codemirror_mode": {
    "name": "ipython",
    "version": 3
   },
   "file_extension": ".py",
   "mimetype": "text/x-python",
   "name": "python",
   "nbconvert_exporter": "python",
   "pygments_lexer": "ipython3",
   "version": "3.8.10"
  }
 },
 "nbformat": 4,
 "nbformat_minor": 2
}
